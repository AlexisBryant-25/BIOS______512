{
 "cells": [
  {
   "cell_type": "raw",
   "id": "b9398893",
   "metadata": {},
   "source": [
    "---\n",
    "title: \"Homework05\"\n",
    "author: \"Alexis Bryant\"\n",
    "date: \"`r Sys.Date()`\"\n",
    "output:\n",
    "  html_document: default\n",
    "  pdf_document: default\n",
    "  nbconvert::notebook: default\n",
    "---"
   ]
  },
  {
   "cell_type": "markdown",
   "id": "513e58c1",
   "metadata": {
    "lines_to_next_cell": 0
   },
   "source": []
  },
  {
   "cell_type": "code",
   "execution_count": null,
   "id": "98d7a7c5",
   "metadata": {},
   "outputs": [],
   "source": [
    "knitr::opts_chunk$set(echo = TRUE)\n",
    "library(tidyverse)\n",
    "library(Rtsne)\n",
    "library(rmarkdown)"
   ]
  },
  {
   "cell_type": "markdown",
   "id": "16099d18",
   "metadata": {},
   "source": [
    "## 1.1 Question 1\n",
    "\n",
    "**a) Import your data**"
   ]
  },
  {
   "cell_type": "code",
   "execution_count": null,
   "id": "2a8da41d",
   "metadata": {},
   "outputs": [],
   "source": [
    "wine <- read_csv(\"wine.csv\")\n"
   ]
  },
  {
   "cell_type": "markdown",
   "id": "7d49f083",
   "metadata": {},
   "source": [
    "**b) Check out the columns present using one of R's data frame summary.**"
   ]
  },
  {
   "cell_type": "code",
   "execution_count": null,
   "id": "106ac94b",
   "metadata": {},
   "outputs": [],
   "source": [
    "library(dplyr)\n",
    "glimpse(wine)\n"
   ]
  },
  {
   "cell_type": "markdown",
   "id": "622ffc13",
   "metadata": {},
   "source": [
    "**c) Get summary statistics on the numeric variables.**"
   ]
  },
  {
   "cell_type": "code",
   "execution_count": null,
   "id": "28af68c8",
   "metadata": {},
   "outputs": [],
   "source": [
    "wine %>% select(-class) %>% summary()"
   ]
  },
  {
   "cell_type": "markdown",
   "id": "d3a56e1d",
   "metadata": {},
   "source": [
    "## 1.2 Question 2\n",
    "\n",
    "**a) Scale and Center your data** *Hint:* Use mutate() statement across all columns **except class** with function(x) as.numeric(scale(x))."
   ]
  },
  {
   "cell_type": "code",
   "execution_count": null,
   "id": "af7274b5",
   "metadata": {},
   "outputs": [],
   "source": [
    "wine_scaled <- wine %>% \n",
    "  mutate(across(-class, ~as.numeric(scale(.))))"
   ]
  },
  {
   "cell_type": "markdown",
   "id": "505ddf0e",
   "metadata": {},
   "source": [
    "**b) Based on what you saw in the summary statistic table from the imported data, why would scaling and centering this data be helpful before we perform PCA.**"
   ]
  },
  {
   "cell_type": "markdown",
   "id": "bdc7ccec",
   "metadata": {},
   "source": [
    "Scaling ensures all variables contribute equally. Without scaling, variables with larger ranges like proline could effect the PCA outcome and hide smaller variables like ash that have a smaller range."
   ]
  },
  {
   "cell_type": "markdown",
   "id": "9e82d236",
   "metadata": {},
   "source": [
    "## 1.3 Question 3\n",
    "\n",
    "**a) Perform PCA**"
   ]
  },
  {
   "cell_type": "code",
   "execution_count": null,
   "id": "a2f9b777",
   "metadata": {},
   "outputs": [],
   "source": [
    "wine_pca <- prcomp(\n",
    "  wine_scaled %>%\n",
    "    select(-class), center = TRUE, scale. = TRUE\n",
    ")\n"
   ]
  },
  {
   "cell_type": "markdown",
   "id": "5a0b9dc5",
   "metadata": {},
   "source": [
    "**b) How much of the total variance is explained by PC1? PC2? What function do we use to see that information?**"
   ]
  },
  {
   "cell_type": "code",
   "execution_count": null,
   "id": "880d2b47",
   "metadata": {},
   "outputs": [],
   "source": [
    "summary(wine_pca)$importance[2, 1:2]"
   ]
  },
  {
   "cell_type": "markdown",
   "id": "20d81bbf",
   "metadata": {},
   "source": [
    "36% of the variance is explained by PC1 and 19% of the variance is explained by PC2. We use the summary function to see this information."
   ]
  },
  {
   "cell_type": "markdown",
   "id": "a0d25c2e",
   "metadata": {},
   "source": [
    "**c) Why are we doing PCA first?**\n",
    "\n",
    "PCA is done first because it compresses the data into a smaller uncorrelated data frame and it removes the redundancy between correlated variables and reduces noise."
   ]
  },
  {
   "cell_type": "markdown",
   "id": "9fd6bee3",
   "metadata": {},
   "source": [
    "**d) What is the rotation matrix? Print it explicitly.** *Hint:* Check the notes for a simple way to do this!"
   ]
  },
  {
   "cell_type": "code",
   "execution_count": null,
   "id": "86b5cadf",
   "metadata": {},
   "outputs": [],
   "source": [
    "print(wine_pca$rotation, digits = 3)"
   ]
  },
  {
   "cell_type": "markdown",
   "id": "5e7b874d",
   "metadata": {},
   "source": [
    "**e) Plot PC1 vs. PC2, using the wine class as labels for coloring.** *Hint:* You'll first need a data set with only PC1 and PC2, then add back the class variable from your scaled data set with a mutate() statement. Then, you can use color = factor(class) in your ggplot statement."
   ]
  },
  {
   "cell_type": "code",
   "execution_count": null,
   "id": "2d12398a",
   "metadata": {},
   "outputs": [],
   "source": [
    "wine_scores <- as_tibble(wine_pca$x) %>%\n",
    "  mutate(class = wine_scaled$class)\n",
    "\n",
    "ggplot(wine_scores, aes(x = PC1, y = PC2, color = factor(class))) +\n",
    "  geom_point(size = 3, alpha = 0.7) +\n",
    "  labs(title = \"Wine Data: PC1 vs PC2\",\n",
    "       x = \"PC1\",\n",
    "       y = \"PC2\",\n",
    "       color = \"Wine Class\") +\n",
    "  theme_minimal()"
   ]
  },
  {
   "cell_type": "markdown",
   "id": "664cb633",
   "metadata": {},
   "source": [
    "**f) What do you see after plotting PC1 vs PC2? What does this mean in context of wine classes?**\n",
    "\n",
    "The wine classes form distinct clusters. Wine class 1 is more condensed than 2 and 3, with wine class 2 being the most spread out with a few points overlapping in wine class 1. This means that PC1 and PC@ explain enough of the variance to define class structure which could suggest that wines in different classes are chemically distinct."
   ]
  },
  {
   "cell_type": "markdown",
   "id": "e9b58f4c",
   "metadata": {},
   "source": [
    "**g) Give an example of data where PCA would fail. You can describe the data or do a simulation.** *Hint:* Our notes have a few examples!\n",
    "\n",
    "PCA would fail if the data was arranged in a spiral and when the noise has a higher variance than the real pattern.In that example PCA would cause it to overlap, lose its actual structure, and align with the noise instead of the signal"
   ]
  },
  {
   "cell_type": "markdown",
   "id": "487a6cec",
   "metadata": {},
   "source": [
    "Example:"
   ]
  },
  {
   "cell_type": "code",
   "execution_count": null,
   "id": "10763a8c",
   "metadata": {},
   "outputs": [],
   "source": [
    "set.seed(1)\n",
    "theta <- runif(1000, 0, 2*pi)\n",
    "x<-cos(theta)\n",
    "y<-sin(theta)\n",
    "df<- tibble(x,y)\n",
    "ggplot(df, aes(x,y)) + geom_point()"
   ]
  },
  {
   "cell_type": "markdown",
   "id": "62f8bdab",
   "metadata": {},
   "source": [
    "**h) Explain the difference between vector space and manifold, and how these terms apply to what we did/will do with T-SNE.**"
   ]
  },
  {
   "cell_type": "markdown",
   "id": "9d17b4dc",
   "metadata": {},
   "source": [
    "A vector space is a mathematical structure where vectors are added and scaled by numbers from a field. Its restrictive because every operation has to make sense globally and linearly. PCA works in vector spaces and finds a rotation of the axes and aligns with the directions of maximum variance in the data. A Manifold is a space that can be curved globally but looks like a vector space locally. So, PCA can only work in vector spaces due the the assumption it holds that data can be globally represented as a vector space, which only works if the structure is linear.T-SNE is essentially a manifold method because it does not represent the entire data set with one linear rotation. It it keeps the local environment which unrolls the manifold the data lies on. This is why T-SNE can reveal non-linear structure such as clusters that PCA can't.\n"
   ]
  },
  {
   "cell_type": "markdown",
   "id": "a323e747",
   "metadata": {},
   "source": [
    "## 1.4 Question 4\n",
    "\n",
    "**a) Perform T-SNE** set seed = 123. *Hint:* Subset your PCS results to PC1-PC10, add the class variable back in, remove duplicates, then perform T-SNE."
   ]
  },
  {
   "cell_type": "code",
   "execution_count": null,
   "id": "dd9169c2",
   "metadata": {},
   "outputs": [],
   "source": [
    "set.seed(123)\n",
    "\n",
    "pca_subset <- wine_pca$x[, 1:10] %>%\n",
    "  as_tibble() %>%\n",
    "  mutate(class = wine_scaled$class) %>%\n",
    "  distinct()\n",
    "\n",
    "tsne_results <- Rtsne(as.matrix(pca_subset %>% select(-class)), dims = 2)\n",
    "\n",
    "tsne_df<- as_tibble(tsne_results$Y) %>%\n",
    "  rename(Dim1 = V1, Dim2 = V2) %>%\n",
    "  mutate(class = pca_subset$class)"
   ]
  },
  {
   "cell_type": "markdown",
   "id": "d59839da",
   "metadata": {},
   "source": [
    "**b) Plot the results in 2D.** *Hint:* Convert your T-SNE results to a tibble and add back the class variable from your scaled data set using a mutate() statement. Then, you can use color = factor(class) in your ggplot statement."
   ]
  },
  {
   "cell_type": "code",
   "execution_count": null,
   "id": "5e7e9ae5",
   "metadata": {},
   "outputs": [],
   "source": [
    "ggplot(tsne_df, aes(x=Dim1, y=Dim2, color = factor(class))) +\n",
    "  geom_point(alpha = 0.7) + \n",
    "  labs(title = \"T-SNE Results on Wine Data\",\n",
    "       x = \"Dim1\",\n",
    "       y = \"Dim2\",\n",
    "       color = \"Wine Class\"\n",
    "       )"
   ]
  },
  {
   "cell_type": "markdown",
   "id": "35042a5f",
   "metadata": {},
   "source": [
    "**c) Why didn't we stop at PCA?**"
   ]
  },
  {
   "cell_type": "markdown",
   "id": "b40de99e",
   "metadata": {},
   "source": [
    "PCA is a linear dimensionality reduction method that captures axes of maximum variance but assumes global linear structure, but not all data sets contain linear relationships. Meaning that PCA can spread the wine classes in rotated spaces but it can really separate them if the class boundaries are curved. But, T-SNE is non-linear and manifold based which allows the clusters to be created naturally, even if they are curved or non-linear. Its best to perform both to get the full picture."
   ]
  },
  {
   "cell_type": "markdown",
   "id": "196fe747",
   "metadata": {},
   "source": [
    "**d) What other types of data does this workflow make sense for?**"
   ]
  },
  {
   "cell_type": "markdown",
   "id": "09f926df",
   "metadata": {},
   "source": [
    "This workflow is useful for high- dimensional data where local neighborhoods matter more than global variance. Examples of this would be biological data, and clinical data. \n"
   ]
  }
 ],
 "metadata": {
  "jupytext": {
   "cell_metadata_filter": "-all",
   "main_language": "R",
   "notebook_metadata_filter": "-all"
  }
 },
 "nbformat": 4,
 "nbformat_minor": 5
}
